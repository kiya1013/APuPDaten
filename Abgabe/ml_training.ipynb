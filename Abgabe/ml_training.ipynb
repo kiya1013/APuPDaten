{
 "cells": [
  {
   "cell_type": "code",
   "execution_count": 140,
   "metadata": {},
   "outputs": [],
   "source": [
    "from sklearn.linear_model import LogisticRegression\n",
    "from sklearn.ensemble import RandomForestClassifier\n",
    "from sklearn.tree import DecisionTreeClassifier\n",
    "\n",
    "from sklearn.metrics import confusion_matrix\n",
    "from sklearn.model_selection import GridSearchCV\n",
    "\n",
    "from sklearn.model_selection import train_test_split \n",
    "from sklearn.metrics import r2_score, recall_score, precision_score, accuracy_score\n",
    "import numpy as np\n",
    "\n",
    "from sklearn.ensemble import IsolationForest\n",
    "from joblib import dump, load\n",
    "import pandas as pd \n",
    "import plotly.express as px"
   ]
  },
  {
   "cell_type": "code",
   "execution_count": 141,
   "metadata": {},
   "outputs": [],
   "source": [
    "# print(sklearn.__version__) # 0.24.1\n",
    "# print(numpy.__version__) #1.20.1\n",
    "# print(pandas.__version__) #1.2.4\n",
    "# print(plotly.__version__) #5.1.0\n"
   ]
  },
  {
   "cell_type": "code",
   "execution_count": 142,
   "metadata": {},
   "outputs": [],
   "source": [
    "dfo = pd.read_csv(\"..\\\\Data\\\\SmA-Four-Tank-Batch-Process_V2.csv\",sep=';')\n",
    "dfo['timestamp']=pd.to_datetime(dfo['timestamp'])\n",
    "#df_day=dfo.copy()\n",
    "#df_day['h']=df_day['timestamp'].dt.hour"
   ]
  },
  {
   "cell_type": "code",
   "execution_count": 143,
   "metadata": {},
   "outputs": [],
   "source": [
    "df=dfo.copy()\n",
    "\n",
    "df=df.drop(columns=[\"timestamp\",\"CuStepNo ValueY\"])\n",
    "c=list(df.columns)\n",
    "c[0]=\"Dev\"\n",
    "df.columns=c\n",
    "df=df[df['Dev']!=0]\n",
    "df['Dev']=df['Dev']!=1\n",
    "df['Dev']=df['Dev'].astype('int')\n",
    "df_clean=df.copy()"
   ]
  },
  {
   "cell_type": "code",
   "execution_count": 144,
   "metadata": {},
   "outputs": [],
   "source": [
    "df_clean.to_csv('..\\\\Data\\\\data_01_clean.csv')\n",
    "df_clean=df_clean.sample(250000)\n",
    "X_train,X_test,y_train,y_test=train_test_split(df_clean.drop(columns=['Dev']),df_clean['Dev'],shuffle=False,random_state=42)"
   ]
  },
  {
   "cell_type": "code",
   "execution_count": 145,
   "metadata": {},
   "outputs": [
    {
     "data": {
      "text/plain": [
       "['rf.pkl']"
      ]
     },
     "execution_count": 145,
     "metadata": {},
     "output_type": "execute_result"
    }
   ],
   "source": [
    "model=RandomForestClassifier(n_estimators=100)\n",
    "model.fit(X_train,y_train)\n",
    "dump(model,\"rf.pkl\")"
   ]
  },
  {
   "cell_type": "markdown",
   "metadata": {},
   "source": [
    "# Metriken der Trainings-Daten"
   ]
  },
  {
   "cell_type": "code",
   "execution_count": 146,
   "metadata": {},
   "outputs": [
    {
     "name": "stdout",
     "output_type": "stream",
     "text": [
      "R2:1.0\n",
      "Accuracy: 1.0\n",
      "Recall: 1.0\n",
      "Precision: 1.0\n"
     ]
    }
   ],
   "source": [
    "y_pred_train=model.predict(X_train)\n",
    "print(f'R2:{r2_score(y_train,y_pred_train)}\\nAccuracy: {accuracy_score(y_train,y_pred_train)}\\nRecall: {recall_score(y_train,y_pred_train)}\\nPrecision: {precision_score(y_train,y_pred_train)}')"
   ]
  },
  {
   "cell_type": "code",
   "execution_count": 147,
   "metadata": {},
   "outputs": [
    {
     "name": "stdout",
     "output_type": "stream",
     "text": [
      "TN: 25070\n",
      "FP: 0\n",
      "FN: 0\n",
      "TP: 162430\n"
     ]
    }
   ],
   "source": [
    "\n",
    "tn, fp, fn, tp = confusion_matrix(y_train,y_pred_train).ravel()\n",
    "print(f'TN: {tn}')\n",
    "print(f'FP: {fp}')\n",
    "print(f'FN: {fn}')\n",
    "print(f'TP: {tp}')"
   ]
  },
  {
   "cell_type": "markdown",
   "metadata": {},
   "source": [
    "# Metriken der Test-Daten"
   ]
  },
  {
   "cell_type": "code",
   "execution_count": 148,
   "metadata": {},
   "outputs": [
    {
     "name": "stdout",
     "output_type": "stream",
     "text": [
      "R2:0.8518652212817277\n",
      "Accuracy: 0.982928\n",
      "Recall: 0.992286826711937\n",
      "Precision: 0.9880751139203293\n"
     ]
    }
   ],
   "source": [
    "y_pred=model.predict(X_test)\n",
    "print(f'R2:{r2_score(y_test,y_pred)}\\nAccuracy: {accuracy_score(y_test,y_pred)}\\nRecall: {recall_score(y_test,y_pred)}\\nPrecision: {precision_score(y_test,y_pred)}')"
   ]
  },
  {
   "cell_type": "code",
   "execution_count": 149,
   "metadata": {},
   "outputs": [
    {
     "name": "stdout",
     "output_type": "stream",
     "text": [
      "TN: 7658\n",
      "FP: 649\n",
      "FN: 418\n",
      "TP: 53775\n"
     ]
    }
   ],
   "source": [
    "y_pred=model.predict(X_test)\n",
    "tn, fp, fn, tp = confusion_matrix(y_test,y_pred).ravel()\n",
    "print(f'TN: {tn}')\n",
    "print(f'FP: {fp}')\n",
    "print(f'FN: {fn}')\n",
    "print(f'TP: {tp}')"
   ]
  },
  {
   "cell_type": "markdown",
   "metadata": {},
   "source": [
    "Hinweis: <br> \n",
    "Durch die Ergänzung der Vorhersage durch eine zeitliche Klassifizierung (Dargestellt in \"zeitliche_Klassifizierung.ipynb\"), können dann alle fehlerhaften Batches als fehlerhaft klassifiziert werden. <br> \n",
    "Dies müsste in einem produktiven System mit live Daten in einer Software umgesetzt werden. <br>"
   ]
  }
 ],
 "metadata": {
  "interpreter": {
   "hash": "ec345b70bd621bc6282344102936f0653f35976420ccf04a86553034afee1630"
  },
  "kernelspec": {
   "display_name": "Python 3.8.8 ('base')",
   "language": "python",
   "name": "python3"
  },
  "language_info": {
   "codemirror_mode": {
    "name": "ipython",
    "version": 3
   },
   "file_extension": ".py",
   "mimetype": "text/x-python",
   "name": "python",
   "nbconvert_exporter": "python",
   "pygments_lexer": "ipython3",
   "version": "3.8.8"
  },
  "orig_nbformat": 4
 },
 "nbformat": 4,
 "nbformat_minor": 2
}
