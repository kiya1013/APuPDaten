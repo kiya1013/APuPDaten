{
 "cells": [
  {
   "cell_type": "code",
   "execution_count": null,
   "metadata": {},
   "outputs": [],
   "source": [
    "import pandas as pd \n",
    "import plotly.express as px\n",
    "dfo = pd.read_csv(\"..\\\\Data\\\\SmA-Four-Tank-Batch-Process_V2.csv\",sep=';')\n",
    "dfo['timestamp']=pd.to_datetime(dfo['timestamp'])\n",
    "df_day=dfo.copy()\n",
    "df_day['h']=df_day['timestamp'].dt.hour"
   ]
  },
  {
   "cell_type": "code",
   "execution_count": null,
   "metadata": {},
   "outputs": [],
   "source": [
    "#px.scatter(dfo,x='timestamp',y='DeviationID ValueY',color='DeviationID ValueY',marginal_x=\"rug\")"
   ]
  },
  {
   "cell_type": "code",
   "execution_count": null,
   "metadata": {},
   "outputs": [],
   "source": [
    "px.scatter(df_day,x='h',y='DeviationID ValueY',color='DeviationID ValueY',marginal_x=\"rug\")"
   ]
  },
  {
   "cell_type": "code",
   "execution_count": null,
   "metadata": {},
   "outputs": [],
   "source": [
    "df=dfo.copy()\n",
    "df=df.drop(columns=[\"timestamp\",\"CuStepNo ValueY\"])\n",
    "c=list(df.columns)\n",
    "c[0]=\"Dev\"\n",
    "df.columns=c\n",
    "df=df[df['Dev']!=0]\n",
    "df['Dev']=df['Dev']!=1\n",
    "df['Dev']=df['Dev'].astype('int')\n",
    "df_clean=df.copy()"
   ]
  },
  {
   "cell_type": "code",
   "execution_count": null,
   "metadata": {},
   "outputs": [],
   "source": [
    "len(df_clean.columns)"
   ]
  },
  {
   "cell_type": "code",
   "execution_count": null,
   "metadata": {},
   "outputs": [],
   "source": [
    "from sklearn.linear_model import LogisticRegression\n",
    "from sklearn.ensemble import RandomForestClassifier\n",
    "from sklearn.tree import DecisionTreeClassifier\n",
    "\n",
    "from sklearn.metrics import confusion_matrix\n",
    "from sklearn.model_selection import GridSearchCV\n",
    "\n",
    "from sklearn.model_selection import train_test_split \n",
    "from sklearn.metrics import r2_score, recall_score, precision_score, accuracy_score"
   ]
  },
  {
   "cell_type": "code",
   "execution_count": null,
   "metadata": {},
   "outputs": [],
   "source": [
    "X_train,X_test,y_train,y_test=train_test_split(df_clean.drop(columns=['Dev']),df_clean['Dev'],shuffle=True,random_state=42)"
   ]
  },
  {
   "cell_type": "code",
   "execution_count": null,
   "metadata": {},
   "outputs": [],
   "source": [
    "model=RandomForestClassifier(n_estimators=100)\n",
    "model.fit(X_train,y_train)"
   ]
  },
  {
   "cell_type": "code",
   "execution_count": null,
   "metadata": {},
   "outputs": [],
   "source": [
    "y_pred=model.predict(X_train)\n",
    "print(f'R2:{r2_score(y_train,y_pred)}\\nAccuracy: {accuracy_score(y_train,y_pred)}\\nRecall: {recall_score(y_train,y_pred)}\\nPrecision: {precision_score(y_train,y_pred)}')"
   ]
  },
  {
   "cell_type": "code",
   "execution_count": null,
   "metadata": {},
   "outputs": [],
   "source": [
    "y_pred=model.predict(X_train)\n",
    "tn, fp, fn, tp = confusion_matrix(y_train,y_pred).ravel()\n",
    "print(f'TN: {tn}')\n",
    "print(f'FP: {fp}')\n",
    "print(f'FN: {fn}')\n",
    "print(f'TP: {tp}')"
   ]
  },
  {
   "cell_type": "code",
   "execution_count": null,
   "metadata": {},
   "outputs": [],
   "source": [
    "y_pred=model.predict(X_test)\n",
    "print(f'R2:{r2_score(y_test,y_pred)}\\nAccuracy: {accuracy_score(y_test,y_pred)}\\nRecall: {recall_score(y_test,y_pred)}\\nPrecision: {precision_score(y_test,y_pred)}')\n"
   ]
  },
  {
   "cell_type": "code",
   "execution_count": null,
   "metadata": {},
   "outputs": [],
   "source": [
    "y_pred=model.predict(X_test)\n",
    "tn, fp, fn, tp = confusion_matrix(y_test,y_pred).ravel()\n",
    "print(f'TN: {tn}')\n",
    "print(f'FP: {fp}')\n",
    "print(f'FN: {fn}')\n",
    "print(f'TP: {tp}')"
   ]
  },
  {
   "cell_type": "code",
   "execution_count": null,
   "metadata": {},
   "outputs": [],
   "source": [
    "---l=[]\n",
    "for max_depth in range(10,100,10):\n",
    "    for max_f in range(1,40,5):\n",
    "        print(max_depth,max_f)\n",
    "        model=RandomForestClassifier(n_estimators=100,max_depth=max_depth,max_features=max_f)\n",
    "        model.fit(X_train,y_train)\n",
    "        \n",
    "        y_pred=model.predict(X_train)\n",
    "        y_pred_test=model.predict(X_test)\n",
    "        \n",
    "        l.append({\n",
    "        'R2':r2_score(y_train,y_pred),\n",
    "        'Accuracy':accuracy_score(y_train,y_pred),\n",
    "        'Recall':recall_score(y_train,y_pred),\n",
    "        'Precision':precision_score(y_train,y_pred),\n",
    "        'Test_R2':r2_score(y_test,y_pred_test),\n",
    "        'Test_Accuracy':accuracy_score(y_test,y_pred_test),\n",
    "        'Test_Recall':recall_score(y_test,y_pred_test),\n",
    "        'Test_Precision':precision_score(y_test,y_pred_test),\n",
    "        })"
   ]
  },
  {
   "cell_type": "code",
   "execution_count": null,
   "metadata": {},
   "outputs": [],
   "source": [
    "import plotly.express as px\n",
    "df=pd.DataFrame(l)\n",
    "px.line(df)"
   ]
  }
 ],
 "metadata": {
  "interpreter": {
   "hash": "9ab66f010ccc75d16d7fd6788b0f3af726f4de27b9a8832f5237d26e07fa8347"
  },
  "kernelspec": {
   "display_name": "Python 3.8.8 ('base')",
   "language": "python",
   "name": "python3"
  },
  "language_info": {
   "codemirror_mode": {
    "name": "ipython",
    "version": 3
   },
   "file_extension": ".py",
   "mimetype": "text/x-python",
   "name": "python",
   "nbconvert_exporter": "python",
   "pygments_lexer": "ipython3",
   "version": "3.8.8"
  },
  "orig_nbformat": 4
 },
 "nbformat": 4,
 "nbformat_minor": 2
}
