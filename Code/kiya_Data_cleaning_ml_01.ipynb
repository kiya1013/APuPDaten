{
 "cells": [
  {
   "cell_type": "code",
   "execution_count": 105,
   "metadata": {},
   "outputs": [],
   "source": [
    "from sklearn.linear_model import LogisticRegression\n",
    "from sklearn.ensemble import RandomForestClassifier\n",
    "from sklearn.tree import DecisionTreeClassifier\n",
    "\n",
    "from sklearn.metrics import confusion_matrix\n",
    "from sklearn.model_selection import GridSearchCV\n",
    "\n",
    "from sklearn.model_selection import train_test_split \n",
    "from sklearn.metrics import r2_score, recall_score, precision_score, accuracy_score\n",
    "import numpy as np\n",
    "\n",
    "from sklearn.ensemble import IsolationForest\n",
    "from joblib import dump, load"
   ]
  },
  {
   "cell_type": "code",
   "execution_count": 106,
   "metadata": {},
   "outputs": [],
   "source": [
    "import pandas as pd \n",
    "import plotly.express as px\n",
    "dfo = pd.read_csv(\"..\\\\Data\\\\SmA-Four-Tank-Batch-Process_V2.csv\",sep=';')\n",
    "dfo['timestamp']=pd.to_datetime(dfo['timestamp'])\n",
    "#df_day=dfo.copy()\n",
    "#df_day['h']=df_day['timestamp'].dt.hour"
   ]
  },
  {
   "cell_type": "code",
   "execution_count": 107,
   "metadata": {},
   "outputs": [],
   "source": [
    "df=dfo.sample(50000)\n",
    "#df=dfo.copy()\n",
    "df=df.drop(columns=[\"timestamp\"])\n",
    "c=list(df.columns)\n",
    "c[0]=\"Dev\"\n",
    "df.columns=c\n",
    "df=df[df['Dev']!=0]\n",
    "df['Dev']=df['Dev']!=1\n",
    "df['Dev']=df['Dev'].astype('int')\n",
    "df_clean=df.copy()"
   ]
  },
  {
   "cell_type": "code",
   "execution_count": 108,
   "metadata": {},
   "outputs": [],
   "source": [
    "df_clean.to_csv('..\\\\Data\\\\data_01_clean.csv')\n",
    "X_train,X_test,y_train,y_test=train_test_split(df_clean.drop(columns=['Dev']),df_clean['Dev'],shuffle=False,random_state=42)"
   ]
  },
  {
   "cell_type": "code",
   "execution_count": null,
   "metadata": {},
   "outputs": [],
   "source": [
    "model=RandomForestClassifier(n_estimators=100)\n",
    "model.fit(X_train,y_train)"
   ]
  },
  {
   "cell_type": "code",
   "execution_count": null,
   "metadata": {},
   "outputs": [],
   "source": [
    "y_pred=model.predict(X_train)\n",
    "print(f'R2:{r2_score(y_train,y_pred)}\\nAccuracy: {accuracy_score(y_train,y_pred)}\\nRecall: {recall_score(y_train,y_pred)}\\nPrecision: {precision_score(y_train,y_pred)}')"
   ]
  },
  {
   "cell_type": "code",
   "execution_count": null,
   "metadata": {},
   "outputs": [],
   "source": [
    "y_pred=model.predict(X_train)\n",
    "tn, fp, fn, tp = confusion_matrix(y_train,y_pred).ravel()\n",
    "print(f'TN: {tn}')\n",
    "print(f'FP: {fp}')\n",
    "print(f'FN: {fn}')\n",
    "print(f'TP: {tp}')"
   ]
  },
  {
   "cell_type": "code",
   "execution_count": null,
   "metadata": {},
   "outputs": [],
   "source": [
    "y_pred=model.predict(X_test)\n",
    "print(f'R2:{r2_score(y_test,y_pred)}\\nAccuracy: {accuracy_score(y_test,y_pred)}\\nRecall: {recall_score(y_test,y_pred)}\\nPrecision: {precision_score(y_test,y_pred)}')"
   ]
  },
  {
   "cell_type": "code",
   "execution_count": null,
   "metadata": {},
   "outputs": [],
   "source": [
    "y_pred=model.predict(X_test)\n",
    "tn, fp, fn, tp = confusion_matrix(y_test,y_pred).ravel()\n",
    "print(f'TN: {tn}')\n",
    "print(f'FP: {fp}')\n",
    "print(f'FN: {fn}')\n",
    "print(f'TP: {tp}')"
   ]
  },
  {
   "cell_type": "code",
   "execution_count": null,
   "metadata": {},
   "outputs": [],
   "source": [
    "from sklearn.ensemble import IsolationForest\n",
    "from joblib import dump, load\n",
    "\n",
    "ISF = IsolationForest(n_estimators=100)\n",
    "ISF.fit(X_train) \n",
    "dump(ISF, 'ISF.pkl')"
   ]
  },
  {
   "cell_type": "code",
   "execution_count": null,
   "metadata": {},
   "outputs": [],
   "source": [
    "list_train=[]\n",
    "list_test=[]\n",
    "\n",
    "from sklearn.neighbors import LocalOutlierFactor\n",
    "from joblib import dump, load\n",
    "\n",
    "\n",
    "for n_n in [5,10,20,40,80,160]:\n",
    "    for boot in [True,False]:\n",
    "        print(n_n,boot)\n",
    "        model = IsolationForest(n_estimators=n_n,n_jobs=-1,bootstrap=boot)\n",
    "        model.fit(X_train) \n",
    "        dump(model, f'..\\\\Models\\\\ISF{n_n}_{boot}.pkl')\n",
    "\n",
    "\n",
    "        #-------------------Train-Set----------------------------------------------------------------\n",
    "        y_pred=model.predict(X_train)\n",
    "        y_pred=pd.Series(y_pred).replace(1,0).replace(-1,1)\n",
    "        tn, fp, fn, tp = confusion_matrix(y_train,y_pred).ravel()\n",
    "\n",
    "        list_train.append({\n",
    "        'params':(n_n,boot),\n",
    "        'tn':tn,\n",
    "        'fp':fp,\n",
    "        'fn':fn,\n",
    "        'tp':tp,\n",
    "        'R2':r2_score(y_train,y_pred),\n",
    "        'Accuracy': accuracy_score(y_train,y_pred),\n",
    "        'Recall': recall_score(y_train,y_pred),\n",
    "        'Precision': precision_score(y_train,y_pred),\n",
    "        })\n",
    "\n",
    "        #-------------------Test-Set----------------------------------------------------------------\n",
    "        y_pred=model.predict(X_test)\n",
    "        y_pred=pd.Series(y_pred).replace(1,0).replace(-1,1)\n",
    "        tn, fp, fn, tp = confusion_matrix(y_test,y_pred).ravel()\n",
    "\n",
    "        list_test.append({\n",
    "        'n_n':n_n,\n",
    "        'tn':tn,\n",
    "        'fp':fp,\n",
    "        'fn':fn,\n",
    "        'tp':tp,\n",
    "        'R2':r2_score(y_test,y_pred),\n",
    "        'Accuracy': accuracy_score(y_test,y_pred),\n",
    "        'Recall': recall_score(y_test,y_pred),\n",
    "        'Precision': precision_score(y_test,y_pred),\n",
    "        })\n"
   ]
  },
  {
   "cell_type": "code",
   "execution_count": null,
   "metadata": {},
   "outputs": [],
   "source": [
    "import plotly.express as px\n",
    "df_test_data=pd.DataFrame(list_test)\n",
    "df_train_data=pd.DataFrame(list_train)"
   ]
  },
  {
   "cell_type": "code",
   "execution_count": null,
   "metadata": {},
   "outputs": [],
   "source": [
    "px.scatter(df_test_data,x='n_n',y=['fp','fn'])"
   ]
  },
  {
   "cell_type": "markdown",
   "metadata": {},
   "source": [
    "# Distance "
   ]
  },
  {
   "cell_type": "code",
   "execution_count": null,
   "metadata": {},
   "outputs": [],
   "source": [
    "dist_array=[]\n",
    "for a in X_train.to_numpy():\n",
    "    for b in X_train.to_numpy():\n",
    "        dist_array.append( np.sqrt(np.sum(np.square(a-b))) )\n",
    "\n",
    "array_dist=np.array(dist_array)"
   ]
  },
  {
   "cell_type": "code",
   "execution_count": null,
   "metadata": {},
   "outputs": [],
   "source": [
    "array_dist=np.array(dist_array)"
   ]
  },
  {
   "cell_type": "code",
   "execution_count": null,
   "metadata": {},
   "outputs": [],
   "source": [
    "dist_array"
   ]
  }
 ],
 "metadata": {
  "interpreter": {
   "hash": "9ab66f010ccc75d16d7fd6788b0f3af726f4de27b9a8832f5237d26e07fa8347"
  },
  "kernelspec": {
   "display_name": "Python 3.8.8 ('base')",
   "language": "python",
   "name": "python3"
  },
  "language_info": {
   "codemirror_mode": {
    "name": "ipython",
    "version": 3
   },
   "file_extension": ".py",
   "mimetype": "text/x-python",
   "name": "python",
   "nbconvert_exporter": "python",
   "pygments_lexer": "ipython3",
   "version": "3.8.8"
  },
  "orig_nbformat": 4
 },
 "nbformat": 4,
 "nbformat_minor": 2
}
