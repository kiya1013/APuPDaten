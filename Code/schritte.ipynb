{
 "cells": [
  {
   "cell_type": "code",
   "execution_count": 10,
   "metadata": {},
   "outputs": [],
   "source": [
    "import pandas as pd \n",
    "import plotly.express as px\n",
    "import numpy as np\n",
    "dfo = pd.read_csv(\"..\\\\Data\\\\SmA-Four-Tank-Batch-Process_V2.csv\",sep=';',parse_dates=['timestamp'])"
   ]
  },
  {
   "cell_type": "code",
   "execution_count": 11,
   "metadata": {},
   "outputs": [],
   "source": [
    "df=dfo.copy()\n",
    "df=df[df['DeviationID ValueY']!=0]\n",
    "df['Dev']=df['DeviationID ValueY']!=1\n",
    "df['Dev']=df['Dev'].astype('int')\n",
    "df['Dev']=df['Dev'].astype('str')\n",
    "df_clean=df.copy()\n",
    "df_clean = df_clean[df_clean[\"CuStepNo ValueY\"] != 2]"
   ]
  },
  {
   "cell_type": "code",
   "execution_count": 12,
   "metadata": {},
   "outputs": [],
   "source": [
    "map = {1 : 1, 7 : 2, 8 : 3, 3:4}\n",
    "df_clean[\"Step_new\"] = df_clean[\"CuStepNo ValueY\"].map(map)\n",
    "df_clean[\"Step_new\"] = df_clean[\"Step_new\"].astype(int)\n",
    "\n",
    "df_clean[\"Step_shift\"] = df_clean[\"Step_new\"].shift(1)\n",
    "df_clean['Step_shift']=df_clean['Step_shift'].fillna(0)\n",
    "df_clean['Step_shift']=df_clean['Step_shift'].astype(int)"
   ]
  },
  {
   "cell_type": "code",
   "execution_count": 13,
   "metadata": {},
   "outputs": [],
   "source": [
    "index=0\n",
    "def id(x):\n",
    "    global index \n",
    "    #print(index,x['Step_new'],x['Step_shift'])\n",
    "    if (x['Step_new']==1) & (x['Step_shift']==4):\n",
    "        index+=1\n",
    "        return index\n",
    "    else:\n",
    "        return index"
   ]
  },
  {
   "cell_type": "code",
   "execution_count": 14,
   "metadata": {},
   "outputs": [],
   "source": [
    "df_clean['id']=df_clean.apply(id,axis=1)"
   ]
  },
  {
   "cell_type": "code",
   "execution_count": 16,
   "metadata": {},
   "outputs": [],
   "source": [
    "df_min=df_clean.groupby('id').aggregate({'timestamp':'min'}).reset_index()\n",
    "df_min.columns=['id','t_min']\n",
    "df_with_min=pd.merge(df_clean,df_min,on='id')\n",
    "df_with_min['div_min']=df_with_min['timestamp']-df_with_min['t_min']"
   ]
  },
  {
   "cell_type": "code",
   "execution_count": 26,
   "metadata": {},
   "outputs": [
    {
     "data": {
      "text/html": [
       "<div>\n",
       "<style scoped>\n",
       "    .dataframe tbody tr th:only-of-type {\n",
       "        vertical-align: middle;\n",
       "    }\n",
       "\n",
       "    .dataframe tbody tr th {\n",
       "        vertical-align: top;\n",
       "    }\n",
       "\n",
       "    .dataframe thead th {\n",
       "        text-align: right;\n",
       "    }\n",
       "</style>\n",
       "<table border=\"1\" class=\"dataframe\">\n",
       "  <thead>\n",
       "    <tr style=\"text-align: right;\">\n",
       "      <th></th>\n",
       "      <th></th>\n",
       "      <th>Step_new</th>\n",
       "    </tr>\n",
       "    <tr>\n",
       "      <th>div_min</th>\n",
       "      <th>Dev</th>\n",
       "      <th></th>\n",
       "    </tr>\n",
       "  </thead>\n",
       "  <tbody>\n",
       "    <tr>\n",
       "      <th rowspan=\"2\" valign=\"top\">0 days 00:00:00</th>\n",
       "      <th>0</th>\n",
       "      <td>35</td>\n",
       "    </tr>\n",
       "    <tr>\n",
       "      <th>1</th>\n",
       "      <td>227</td>\n",
       "    </tr>\n",
       "    <tr>\n",
       "      <th rowspan=\"2\" valign=\"top\">0 days 00:00:01</th>\n",
       "      <th>0</th>\n",
       "      <td>35</td>\n",
       "    </tr>\n",
       "    <tr>\n",
       "      <th>1</th>\n",
       "      <td>227</td>\n",
       "    </tr>\n",
       "    <tr>\n",
       "      <th>0 days 00:00:02</th>\n",
       "      <th>0</th>\n",
       "      <td>35</td>\n",
       "    </tr>\n",
       "    <tr>\n",
       "      <th>...</th>\n",
       "      <th>...</th>\n",
       "      <td>...</td>\n",
       "    </tr>\n",
       "    <tr>\n",
       "      <th>0 days 00:33:12</th>\n",
       "      <th>0</th>\n",
       "      <td>4</td>\n",
       "    </tr>\n",
       "    <tr>\n",
       "      <th>0 days 00:33:13</th>\n",
       "      <th>0</th>\n",
       "      <td>4</td>\n",
       "    </tr>\n",
       "    <tr>\n",
       "      <th>0 days 00:33:14</th>\n",
       "      <th>0</th>\n",
       "      <td>4</td>\n",
       "    </tr>\n",
       "    <tr>\n",
       "      <th>0 days 00:33:15</th>\n",
       "      <th>0</th>\n",
       "      <td>4</td>\n",
       "    </tr>\n",
       "    <tr>\n",
       "      <th>0 days 00:33:16</th>\n",
       "      <th>0</th>\n",
       "      <td>4</td>\n",
       "    </tr>\n",
       "  </tbody>\n",
       "</table>\n",
       "<p>3841 rows × 1 columns</p>\n",
       "</div>"
      ],
      "text/plain": [
       "                     Step_new\n",
       "div_min         Dev          \n",
       "0 days 00:00:00 0          35\n",
       "                1         227\n",
       "0 days 00:00:01 0          35\n",
       "                1         227\n",
       "0 days 00:00:02 0          35\n",
       "...                       ...\n",
       "0 days 00:33:12 0           4\n",
       "0 days 00:33:13 0           4\n",
       "0 days 00:33:14 0           4\n",
       "0 days 00:33:15 0           4\n",
       "0 days 00:33:16 0           4\n",
       "\n",
       "[3841 rows x 1 columns]"
      ]
     },
     "execution_count": 26,
     "metadata": {},
     "output_type": "execute_result"
    }
   ],
   "source": [
    "df_with_min.groupby(['div_min','Dev'])[['Step_new']].sum()"
   ]
  },
  {
   "cell_type": "code",
   "execution_count": null,
   "metadata": {},
   "outputs": [],
   "source": [
    "#px.scatter(df_with_minmax[df_with_minmax['Dev']=='1'],x='div_min',y='Dev',marginal_x=\"violin\")"
   ]
  }
 ],
 "metadata": {
  "interpreter": {
   "hash": "5dd2b118974c096f7a12141876d5d331f51712e0ebb68438bb586df651b50eae"
  },
  "kernelspec": {
   "display_name": "Python 3.8.8 ('base')",
   "language": "python",
   "name": "python3"
  },
  "language_info": {
   "codemirror_mode": {
    "name": "ipython",
    "version": 3
   },
   "file_extension": ".py",
   "mimetype": "text/x-python",
   "name": "python",
   "nbconvert_exporter": "python",
   "pygments_lexer": "ipython3",
   "version": "3.8.8"
  },
  "orig_nbformat": 4
 },
 "nbformat": 4,
 "nbformat_minor": 2
}
