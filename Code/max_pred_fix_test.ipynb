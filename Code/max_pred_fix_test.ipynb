{
 "cells": [
  {
   "cell_type": "code",
   "execution_count": 1,
   "metadata": {},
   "outputs": [
    {
     "name": "stdout",
     "output_type": "stream",
     "text": [
      "R2:1.0\n",
      "Accuracy: 1.0\n",
      "Recall: 1.0\n",
      "Precision: 1.0\n",
      "TN: 25037\n",
      "FP: 0\n",
      "FN: 0\n",
      "TP: 162463\n",
      "R2:0.8533581632119327\n",
      "Accuracy: 0.983088\n",
      "Recall: 0.9918244565016794\n",
      "Precision: 0.9887043067130269\n",
      "TN: 7700\n",
      "FP: 614\n",
      "FN: 443\n",
      "TP: 53743\n"
     ]
    },
    {
     "data": {
      "text/plain": [
       "['rf_test.pkl']"
      ]
     },
     "execution_count": 1,
     "metadata": {},
     "output_type": "execute_result"
    }
   ],
   "source": [
    "import pandas as pd \n",
    "import plotly.express as px\n",
    "dfo = pd.read_csv(\"..\\\\Data\\\\SmA-Four-Tank-Batch-Process_V2.csv\",sep=';')\n",
    "dfo['timestamp']=pd.to_datetime(dfo['timestamp'])\n",
    "#df_day=dfo.copy()\n",
    "#df_day['h']=df_day['timestamp'].dt.hour\n",
    "\n",
    "#px.scatter(dfo,x='timestamp',y='DeviationID ValueY',color='DeviationID ValueY',marginal_x=\"rug\")\n",
    "\n",
    "df=dfo.copy()\n",
    "df=df.drop(columns=[\"timestamp\",\"CuStepNo ValueY\"])\n",
    "c=list(df.columns)\n",
    "c[0]=\"Dev\"\n",
    "df.columns=c\n",
    "df=df[df['Dev']!=0]\n",
    "df['Dev']=df['Dev']!=1\n",
    "df['Dev']=df['Dev'].astype('int')\n",
    "df_clean=df.copy()\n",
    "\n",
    "df_clean=df_clean.sample(250000)\n",
    "df_clean.to_csv('..\\\\Data\\\\data_01_clean.csv')\n",
    "\n",
    "from sklearn.linear_model import LogisticRegression\n",
    "from sklearn.ensemble import RandomForestClassifier\n",
    "from sklearn.tree import DecisionTreeClassifier\n",
    "\n",
    "from sklearn.metrics import confusion_matrix\n",
    "from sklearn.model_selection import GridSearchCV\n",
    "\n",
    "from sklearn.model_selection import train_test_split \n",
    "from sklearn.metrics import r2_score, recall_score, precision_score, accuracy_score\n",
    "\n",
    "X_train,X_test,y_train,y_test=train_test_split(df_clean.drop(columns=['Dev']),df_clean['Dev'],shuffle=False,random_state=42)\n",
    "\n",
    "model=RandomForestClassifier(n_estimators=100)\n",
    "model.fit(X_train,y_train)\n",
    "\n",
    "y_pred=model.predict(X_train)\n",
    "print(f'R2:{r2_score(y_train,y_pred)}\\nAccuracy: {accuracy_score(y_train,y_pred)}\\nRecall: {recall_score(y_train,y_pred)}\\nPrecision: {precision_score(y_train,y_pred)}')\n",
    "\n",
    "y_pred=model.predict(X_train)\n",
    "tn, fp, fn, tp = confusion_matrix(y_train,y_pred).ravel()\n",
    "print(f'TN: {tn}')\n",
    "print(f'FP: {fp}')\n",
    "print(f'FN: {fn}')\n",
    "print(f'TP: {tp}')\n",
    "\n",
    "y_pred=model.predict(X_test)\n",
    "print(f'R2:{r2_score(y_test,y_pred)}\\nAccuracy: {accuracy_score(y_test,y_pred)}\\nRecall: {recall_score(y_test,y_pred)}\\nPrecision: {precision_score(y_test,y_pred)}')\n",
    "\n",
    "y_pred=model.predict(X_test)\n",
    "tn, fp, fn, tp = confusion_matrix(y_test,y_pred).ravel()\n",
    "print(f'TN: {tn}')\n",
    "print(f'FP: {fp}')\n",
    "print(f'FN: {fn}')\n",
    "print(f'TP: {tp}')\n",
    "\n",
    "#from sklearn.externals import joblib\n",
    "from joblib import dump, load\n",
    "dump(model, 'rf_test.pkl')\n",
    "\n",
    "\n"
   ]
  }
 ],
 "metadata": {
  "kernelspec": {
   "display_name": "Python 3.8.8 ('base')",
   "language": "python",
   "name": "python3"
  },
  "language_info": {
   "codemirror_mode": {
    "name": "ipython",
    "version": 3
   },
   "file_extension": ".py",
   "mimetype": "text/x-python",
   "name": "python",
   "nbconvert_exporter": "python",
   "pygments_lexer": "ipython3",
   "version": "3.8.8"
  },
  "orig_nbformat": 4,
  "vscode": {
   "interpreter": {
    "hash": "ec345b70bd621bc6282344102936f0653f35976420ccf04a86553034afee1630"
   }
  }
 },
 "nbformat": 4,
 "nbformat_minor": 2
}
