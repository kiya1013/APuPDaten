{
 "cells": [
  {
   "cell_type": "code",
   "execution_count": 18,
   "metadata": {},
   "outputs": [],
   "source": [
    "import pandas as pd \n",
    "import numpy as np\n",
    "\n",
    "import xml.etree.ElementTree as ET"
   ]
  },
  {
   "cell_type": "code",
   "execution_count": 19,
   "metadata": {},
   "outputs": [],
   "source": [
    "plan=[\n",
    "['P1',150,150,150,150],\n",
    "['P2',100,100,100,100],\n",
    "['P3',100,100,50,50]]\n",
    "plan=pd.DataFrame(plan,columns=['Pr',1,  2,  3,  4  ])\n",
    "plan.index=plan['Pr']\n",
    "plan.drop(columns=['Pr'],inplace=True)\n",
    "\n",
    "Periode=1 #--------------------------------------------------"
   ]
  },
  {
   "cell_type": "code",
   "execution_count": 20,
   "metadata": {},
   "outputs": [],
   "source": [
    "# tree = ET.parse('XMLs\\\\periode_01.xml')#-----------------------------------------------\n",
    "# root = tree.getroot()\n",
    "\n",
    "# dfl=[]\n",
    "# for a in root.find('warehousestock').findall('article'):\n",
    "#     dfl.append(a.attrib)\n",
    "# bestands_df = pd.DataFrame(dfl)"
   ]
  },
  {
   "cell_type": "code",
   "execution_count": 21,
   "metadata": {},
   "outputs": [],
   "source": [
    "arbeitsplaetze=15\n",
    "index_l=[4,5,6,7,8,9,10,11,12,13,14,15,16,17,18,19,20,26,49,54,29,50,55,30,51,56,31,1,2,3]\n",
    "u=['K','D','H','K','D','H','K','D','H','K','D','H','KDH','KDH','K','D','H','KDH','K','D','H','K','D','H','K','D','H','K','D','H']\n",
    "\n",
    "combis=[ \n",
    "    [ [6,18,19,20] ],\n",
    "    [ [5,21,22,23] ],\n",
    "    [ [5,24],[6,25,26] ],\n",
    "    [ [6,27],[7,28,29] ],\n",
    "    [ [0] ],\n",
    "    [ [3,16,15,14], [2,12]],\n",
    "    [ [2,16,15,14,17,11,10,9,8,7,6] ],\n",
    "    [ [1,6,9], [2, 11,10,8,7], [3,16,15,14 ] ],\n",
    "    [ [3,11,10,8,7,6,9],[2,16,15,14 ] ],\n",
    "    [ [4,0,1,2,3,4,5]],\n",
    "    [ [3,0,1,2,3,4,5]],\n",
    "    [ [3,11,10,8,7,6,9]],\n",
    "    [ [2,11,10,8,7,6,9]],\n",
    "    [ [3,12]],\n",
    "    [ [3,13,17]],\n",
    "]\n",
    "def f(x):\n",
    "    plan_dict={\n",
    "        'K': plan[Periode][0],\n",
    "        'D': plan[Periode][1],\n",
    "        'H': plan[Periode][2],\n",
    "        'KDH': plan[Periode][0]+plan[Periode][1]+plan[Periode][2]\n",
    "    }\n",
    "    return plan_dict[x]\n",
    "\n",
    "main_df=pd.DataFrame(np.array([u,index_l]).T,columns=['u','NR'])\n",
    "#main_df['menge']=main_df['menge'].astype(float)\n",
    "main_df['menge']=main_df['u'].apply(f)\n",
    "\n",
    "\n",
    "df=pd.DataFrame()\n",
    "for x in range(1,arbeitsplaetze+1):\n",
    "\n",
    "    col=np.zeros(len(index_l))\n",
    "\n",
    "    if x<len(combis)+1:\n",
    "        for a in combis[x-1]:\n",
    "            val=a.pop(0)\n",
    "            \n",
    "            for y in a:\n",
    "                col[y]=val\n",
    "\n",
    "    df[x]=col\n",
    "\n",
    "for x in range(1,arbeitsplaetze+1):\n",
    "    main_df[x]=df[x]*main_df['menge']"
   ]
  },
  {
   "cell_type": "code",
   "execution_count": 30,
   "metadata": {},
   "outputs": [
    {
     "data": {
      "text/html": [
       "<div>\n",
       "<style scoped>\n",
       "    .dataframe tbody tr th:only-of-type {\n",
       "        vertical-align: middle;\n",
       "    }\n",
       "\n",
       "    .dataframe tbody tr th {\n",
       "        vertical-align: top;\n",
       "    }\n",
       "\n",
       "    .dataframe thead th {\n",
       "        text-align: right;\n",
       "    }\n",
       "</style>\n",
       "<table border=\"1\" class=\"dataframe\">\n",
       "  <thead>\n",
       "    <tr style=\"text-align: right;\">\n",
       "      <th></th>\n",
       "      <th>1</th>\n",
       "      <th>2</th>\n",
       "      <th>3</th>\n",
       "      <th>4</th>\n",
       "      <th>5</th>\n",
       "      <th>6</th>\n",
       "      <th>7</th>\n",
       "      <th>8</th>\n",
       "      <th>9</th>\n",
       "      <th>10</th>\n",
       "      <th>11</th>\n",
       "      <th>12</th>\n",
       "      <th>13</th>\n",
       "      <th>14</th>\n",
       "      <th>15</th>\n",
       "    </tr>\n",
       "  </thead>\n",
       "  <tbody>\n",
       "    <tr>\n",
       "      <th>0</th>\n",
       "      <td>2100.0</td>\n",
       "      <td>1750.0</td>\n",
       "      <td>1950.0</td>\n",
       "      <td>2300.0</td>\n",
       "      <td>0.0</td>\n",
       "      <td>1750.0</td>\n",
       "      <td>2800.0</td>\n",
       "      <td>2150.0</td>\n",
       "      <td>2800.0</td>\n",
       "      <td>2800.0</td>\n",
       "      <td>2100.0</td>\n",
       "      <td>2100.0</td>\n",
       "      <td>1400.0</td>\n",
       "      <td>1050.0</td>\n",
       "      <td>2100.0</td>\n",
       "    </tr>\n",
       "  </tbody>\n",
       "</table>\n",
       "</div>"
      ],
      "text/plain": [
       "       1       2       3       4    5       6       7       8       9   \\\n",
       "0  2100.0  1750.0  1950.0  2300.0  0.0  1750.0  2800.0  2150.0  2800.0   \n",
       "\n",
       "       10      11      12      13      14      15  \n",
       "0  2800.0  2100.0  2100.0  1400.0  1050.0  2100.0  "
      ]
     },
     "execution_count": 30,
     "metadata": {},
     "output_type": "execute_result"
    }
   ],
   "source": [
    "calc_l=[]\n",
    "for x in range(1,arbeitsplaetze+1):\n",
    "    calc_l.append(sum(main_df[x]))\n",
    "\n",
    "pd.DataFrame([calc_l],columns=list(range(1,arbeitsplaetze+1)))"
   ]
  }
 ],
 "metadata": {
  "interpreter": {
   "hash": "2662953c389b8e38e329981c29d100ebff9e4b7778e03f94d63c88ff00c316a7"
  },
  "kernelspec": {
   "display_name": "Python 3.8.8 ('base')",
   "language": "python",
   "name": "python3"
  },
  "language_info": {
   "codemirror_mode": {
    "name": "ipython",
    "version": 3
   },
   "file_extension": ".py",
   "mimetype": "text/x-python",
   "name": "python",
   "nbconvert_exporter": "python",
   "pygments_lexer": "ipython3",
   "version": "3.8.8"
  },
  "orig_nbformat": 4
 },
 "nbformat": 4,
 "nbformat_minor": 2
}
